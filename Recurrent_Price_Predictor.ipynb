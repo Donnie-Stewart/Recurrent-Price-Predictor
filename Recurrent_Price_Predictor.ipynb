{
  "nbformat": 4,
  "nbformat_minor": 0,
  "metadata": {
    "colab": {
      "name": "Recurrent Price Predictor.ipynb",
      "provenance": [],
      "machine_shape": "hm",
      "include_colab_link": true
    },
    "kernelspec": {
      "name": "python3",
      "display_name": "Python 3"
    },
    "language_info": {
      "name": "python"
    },
    "accelerator": "GPU"
  },
  "cells": [
    {
      "cell_type": "markdown",
      "metadata": {
        "id": "view-in-github",
        "colab_type": "text"
      },
      "source": [
        "<a href=\"https://colab.research.google.com/github/Donnie-Stewart/Recurrent-Price-Predictor/blob/main/Recurrent_Price_Predictor.ipynb\" target=\"_parent\"><img src=\"https://colab.research.google.com/assets/colab-badge.svg\" alt=\"Open In Colab\"/></a>"
      ]
    },
    {
      "cell_type": "code",
      "metadata": {
        "id": "2IlwhV0z2nMr"
      },
      "source": [
        "%matplotlib inline"
      ],
      "execution_count": null,
      "outputs": []
    },
    {
      "cell_type": "markdown",
      "metadata": {
        "id": "Chprzdhe2nMw"
      },
      "source": [
        "# Recurrent Price Predictor\n",
        "\n",
        "The purpose of the project is to explore using various Recurrent Neural Networks (RNN) supported by tensorflow, on tabular time series data. Specifically, the task at hand is to predict the next day's high price of Bitcoin based on prior closing date prices. Additionally, I will compare types of RNNs, discussing advantages of each model while implementing them. "
      ]
    },
    {
      "cell_type": "markdown",
      "metadata": {
        "id": "hH1DIHT1SGOo"
      },
      "source": [
        "##Bitcoin Price Prediction\n",
        "---\n",
        "Bitcoin, amongst other assets like AMC and GME, has been all the rage this past year and reached an all time high of \\$66,974 per bitcoin. Analysts continue to feed the frenzy by releasing price predictions that range from from \\$500,000 to \\$9,000 per bitcoin in the next year. I will implement a Recurrent Neural Network model to gain some insight into price prediction. [Yahoo! Finance](https://finance.yahoo.com/quote/BTC-USD/history/ ) is a trusted name in free financial information which I'll be using to gather data to train the RNNs."
      ]
    },
    {
      "cell_type": "markdown",
      "metadata": {
        "id": "ujwACJePSYAy"
      },
      "source": [
        "The following code cells download the dependencies & training/test data. "
      ]
    },
    {
      "cell_type": "code",
      "source": [
        "!pip install yfinance\n",
        "import yfinance as yf\n",
        "import pandas as pd\n",
        "import matplotlib.pyplot as plt\n",
        "import seaborn as sns\n",
        "import numpy as np\n",
        "import tensorflow as tf"
      ],
      "metadata": {
        "id": "LVe_Qea_-f3y"
      },
      "execution_count": null,
      "outputs": []
    },
    {
      "cell_type": "code",
      "metadata": {
        "id": "_ab-5H8XVOVi"
      },
      "source": [
        "#downloads BTC chart today - can input any valid date \n",
        "data = yf.download(\"BTC-USD\", start=\"2014-09-15\", end=\"2022-01-01\")\n",
        "#for saving and reformatting. \n",
        "data.to_csv('BTC-USD.csv')\n",
        "data = pd.read_csv('BTC-USD.csv')"
      ],
      "execution_count": null,
      "outputs": []
    },
    {
      "cell_type": "code",
      "source": [
        "data.head()"
      ],
      "metadata": {
        "colab": {
          "base_uri": "https://localhost:8080/",
          "height": 206
        },
        "id": "ivg6CSpt1tsj",
        "outputId": "0488380e-f9f0-446c-b008-457d70d65ab3"
      },
      "execution_count": 3,
      "outputs": [
        {
          "output_type": "execute_result",
          "data": {
            "text/plain": [
              "         Date        Open        High         Low       Close   Adj Close  \\\n",
              "0  2014-09-17  465.864014  468.174011  452.421997  457.334015  457.334015   \n",
              "1  2014-09-18  456.859985  456.859985  413.104004  424.440002  424.440002   \n",
              "2  2014-09-19  424.102997  427.834991  384.532013  394.795990  394.795990   \n",
              "3  2014-09-20  394.673004  423.295990  389.882996  408.903992  408.903992   \n",
              "4  2014-09-21  408.084991  412.425995  393.181000  398.821014  398.821014   \n",
              "\n",
              "     Volume  \n",
              "0  21056800  \n",
              "1  34483200  \n",
              "2  37919700  \n",
              "3  36863600  \n",
              "4  26580100  "
            ],
            "text/html": [
              "\n",
              "  <div id=\"df-a7d408b0-49fa-4b60-bf0a-61a0397efe10\">\n",
              "    <div class=\"colab-df-container\">\n",
              "      <div>\n",
              "<style scoped>\n",
              "    .dataframe tbody tr th:only-of-type {\n",
              "        vertical-align: middle;\n",
              "    }\n",
              "\n",
              "    .dataframe tbody tr th {\n",
              "        vertical-align: top;\n",
              "    }\n",
              "\n",
              "    .dataframe thead th {\n",
              "        text-align: right;\n",
              "    }\n",
              "</style>\n",
              "<table border=\"1\" class=\"dataframe\">\n",
              "  <thead>\n",
              "    <tr style=\"text-align: right;\">\n",
              "      <th></th>\n",
              "      <th>Date</th>\n",
              "      <th>Open</th>\n",
              "      <th>High</th>\n",
              "      <th>Low</th>\n",
              "      <th>Close</th>\n",
              "      <th>Adj Close</th>\n",
              "      <th>Volume</th>\n",
              "    </tr>\n",
              "  </thead>\n",
              "  <tbody>\n",
              "    <tr>\n",
              "      <th>0</th>\n",
              "      <td>2014-09-17</td>\n",
              "      <td>465.864014</td>\n",
              "      <td>468.174011</td>\n",
              "      <td>452.421997</td>\n",
              "      <td>457.334015</td>\n",
              "      <td>457.334015</td>\n",
              "      <td>21056800</td>\n",
              "    </tr>\n",
              "    <tr>\n",
              "      <th>1</th>\n",
              "      <td>2014-09-18</td>\n",
              "      <td>456.859985</td>\n",
              "      <td>456.859985</td>\n",
              "      <td>413.104004</td>\n",
              "      <td>424.440002</td>\n",
              "      <td>424.440002</td>\n",
              "      <td>34483200</td>\n",
              "    </tr>\n",
              "    <tr>\n",
              "      <th>2</th>\n",
              "      <td>2014-09-19</td>\n",
              "      <td>424.102997</td>\n",
              "      <td>427.834991</td>\n",
              "      <td>384.532013</td>\n",
              "      <td>394.795990</td>\n",
              "      <td>394.795990</td>\n",
              "      <td>37919700</td>\n",
              "    </tr>\n",
              "    <tr>\n",
              "      <th>3</th>\n",
              "      <td>2014-09-20</td>\n",
              "      <td>394.673004</td>\n",
              "      <td>423.295990</td>\n",
              "      <td>389.882996</td>\n",
              "      <td>408.903992</td>\n",
              "      <td>408.903992</td>\n",
              "      <td>36863600</td>\n",
              "    </tr>\n",
              "    <tr>\n",
              "      <th>4</th>\n",
              "      <td>2014-09-21</td>\n",
              "      <td>408.084991</td>\n",
              "      <td>412.425995</td>\n",
              "      <td>393.181000</td>\n",
              "      <td>398.821014</td>\n",
              "      <td>398.821014</td>\n",
              "      <td>26580100</td>\n",
              "    </tr>\n",
              "  </tbody>\n",
              "</table>\n",
              "</div>\n",
              "      <button class=\"colab-df-convert\" onclick=\"convertToInteractive('df-a7d408b0-49fa-4b60-bf0a-61a0397efe10')\"\n",
              "              title=\"Convert this dataframe to an interactive table.\"\n",
              "              style=\"display:none;\">\n",
              "        \n",
              "  <svg xmlns=\"http://www.w3.org/2000/svg\" height=\"24px\"viewBox=\"0 0 24 24\"\n",
              "       width=\"24px\">\n",
              "    <path d=\"M0 0h24v24H0V0z\" fill=\"none\"/>\n",
              "    <path d=\"M18.56 5.44l.94 2.06.94-2.06 2.06-.94-2.06-.94-.94-2.06-.94 2.06-2.06.94zm-11 1L8.5 8.5l.94-2.06 2.06-.94-2.06-.94L8.5 2.5l-.94 2.06-2.06.94zm10 10l.94 2.06.94-2.06 2.06-.94-2.06-.94-.94-2.06-.94 2.06-2.06.94z\"/><path d=\"M17.41 7.96l-1.37-1.37c-.4-.4-.92-.59-1.43-.59-.52 0-1.04.2-1.43.59L10.3 9.45l-7.72 7.72c-.78.78-.78 2.05 0 2.83L4 21.41c.39.39.9.59 1.41.59.51 0 1.02-.2 1.41-.59l7.78-7.78 2.81-2.81c.8-.78.8-2.07 0-2.86zM5.41 20L4 18.59l7.72-7.72 1.47 1.35L5.41 20z\"/>\n",
              "  </svg>\n",
              "      </button>\n",
              "      \n",
              "  <style>\n",
              "    .colab-df-container {\n",
              "      display:flex;\n",
              "      flex-wrap:wrap;\n",
              "      gap: 12px;\n",
              "    }\n",
              "\n",
              "    .colab-df-convert {\n",
              "      background-color: #E8F0FE;\n",
              "      border: none;\n",
              "      border-radius: 50%;\n",
              "      cursor: pointer;\n",
              "      display: none;\n",
              "      fill: #1967D2;\n",
              "      height: 32px;\n",
              "      padding: 0 0 0 0;\n",
              "      width: 32px;\n",
              "    }\n",
              "\n",
              "    .colab-df-convert:hover {\n",
              "      background-color: #E2EBFA;\n",
              "      box-shadow: 0px 1px 2px rgba(60, 64, 67, 0.3), 0px 1px 3px 1px rgba(60, 64, 67, 0.15);\n",
              "      fill: #174EA6;\n",
              "    }\n",
              "\n",
              "    [theme=dark] .colab-df-convert {\n",
              "      background-color: #3B4455;\n",
              "      fill: #D2E3FC;\n",
              "    }\n",
              "\n",
              "    [theme=dark] .colab-df-convert:hover {\n",
              "      background-color: #434B5C;\n",
              "      box-shadow: 0px 1px 3px 1px rgba(0, 0, 0, 0.15);\n",
              "      filter: drop-shadow(0px 1px 2px rgba(0, 0, 0, 0.3));\n",
              "      fill: #FFFFFF;\n",
              "    }\n",
              "  </style>\n",
              "\n",
              "      <script>\n",
              "        const buttonEl =\n",
              "          document.querySelector('#df-a7d408b0-49fa-4b60-bf0a-61a0397efe10 button.colab-df-convert');\n",
              "        buttonEl.style.display =\n",
              "          google.colab.kernel.accessAllowed ? 'block' : 'none';\n",
              "\n",
              "        async function convertToInteractive(key) {\n",
              "          const element = document.querySelector('#df-a7d408b0-49fa-4b60-bf0a-61a0397efe10');\n",
              "          const dataTable =\n",
              "            await google.colab.kernel.invokeFunction('convertToInteractive',\n",
              "                                                     [key], {});\n",
              "          if (!dataTable) return;\n",
              "\n",
              "          const docLinkHtml = 'Like what you see? Visit the ' +\n",
              "            '<a target=\"_blank\" href=https://colab.research.google.com/notebooks/data_table.ipynb>data table notebook</a>'\n",
              "            + ' to learn more about interactive tables.';\n",
              "          element.innerHTML = '';\n",
              "          dataTable['output_type'] = 'display_data';\n",
              "          await google.colab.output.renderOutput(dataTable, element);\n",
              "          const docLink = document.createElement('div');\n",
              "          docLink.innerHTML = docLinkHtml;\n",
              "          element.appendChild(docLink);\n",
              "        }\n",
              "      </script>\n",
              "    </div>\n",
              "  </div>\n",
              "  "
            ]
          },
          "metadata": {},
          "execution_count": 3
        }
      ]
    },
    {
      "cell_type": "markdown",
      "metadata": {
        "id": "x0UzN1BASfgD"
      },
      "source": [
        "Plotting the Bitcoin price against dates visualizes the data for this project. The goal is to predict the next day's high price of Bitcoin based on a predetermined look back date. Visualizing can help provide a sanity check to determine how close the model is predicitng to the actual model.   "
      ]
    },
    {
      "cell_type": "code",
      "metadata": {
        "id": "qaUQJVYCSc-S",
        "colab": {
          "base_uri": "https://localhost:8080/",
          "height": 543
        },
        "outputId": "3f8b6379-30ff-4ad3-dd50-54bb281de85f"
      },
      "source": [
        "l = len(data)\n",
        "g = sns.lineplot(x = np.linspace(1,l,l), y = data['High'].values.reshape(-1))\n",
        "g.set(xticks=np.arange(0,l,200))\n",
        "g.set_xticklabels(rotation=30, labels = data['Date'][0::200])"
      ],
      "execution_count": 5,
      "outputs": [
        {
          "output_type": "execute_result",
          "data": {
            "text/plain": [
              "[Text(0, 0, '2014-09-17'),\n",
              " Text(0, 0, '2015-04-05'),\n",
              " Text(0, 0, '2015-10-22'),\n",
              " Text(0, 0, '2016-05-09'),\n",
              " Text(0, 0, '2016-11-25'),\n",
              " Text(0, 0, '2017-06-13'),\n",
              " Text(0, 0, '2017-12-30'),\n",
              " Text(0, 0, '2018-07-18'),\n",
              " Text(0, 0, '2019-02-03'),\n",
              " Text(0, 0, '2019-08-22'),\n",
              " Text(0, 0, '2020-03-09'),\n",
              " Text(0, 0, '2020-09-25'),\n",
              " Text(0, 0, '2021-04-13'),\n",
              " Text(0, 0, '2021-10-30')]"
            ]
          },
          "metadata": {},
          "execution_count": 5
        },
        {
          "output_type": "display_data",
          "data": {
            "text/plain": [
              "<Figure size 432x288 with 1 Axes>"
            ],
            "image/png": "[encoded data removed]"
          },
          "metadata": {
            "needs_background": "light"
          }
        }
      ]
    },
    {
      "cell_type": "markdown",
      "metadata": {
        "id": "I5ngjtt0MfQR"
      },
      "source": [
        "### A) Data Preprocessing\n",
        "The 5 columns displayed above won't all be necessesary for this project. For predicting the next day's High I will consider only prior daily Highs. "
      ]
    },
    {
      "cell_type": "code",
      "metadata": {
        "id": "mhTJ8iATNFlC"
      },
      "source": [
        "data_high = data['High'].to_numpy()\n",
        "data_high = data_high.reshape(-1, 1)"
      ],
      "execution_count": 6,
      "outputs": []
    },
    {
      "cell_type": "markdown",
      "metadata": {
        "id": "JJ6wmmb2DJnE"
      },
      "source": [
        "\n",
        "[MinMaxScaler](https://scikit-learn.org/stable/modules/generated/sklearn.preprocessing.MinMaxScaler.html) from sklearn will be used to reformat the data. The current range is from less than \\$1 to greater than \\$60,000. After scaling, the data is proportionally the same but is in the range 0 to 1. Will need to remember this function later for reverse scaling when predicting. \n",
        "- Side note: This is an example of data normalization, preventing any individual number from being overly influential to the system. "
      ]
    },
    {
      "cell_type": "code",
      "metadata": {
        "id": "4FXLabvyCEN_"
      },
      "source": [
        "from sklearn.preprocessing import MinMaxScaler\n",
        "scaler = MinMaxScaler()\n",
        "scaler.fit(data_high)\n",
        "data_normalized = scaler.transform(data_high)"
      ],
      "execution_count": 7,
      "outputs": []
    },
    {
      "cell_type": "markdown",
      "metadata": {
        "id": "Dqq2K_UpNnrX"
      },
      "source": [
        "I will implement a simple autoregressive recurrent neural network using the standard tensorflow RNN architectures. An autoregressive model originates from the literature on time-series models where observations from the previous time-steps are used to predict the value at the current time step. To implemement an autoregressive model, I will simply augment the data so that \"time_steps\", referring to the number of previous days, are fed to the model at the current time step in order to form a prediction. [Here](https://www.exxactcorp.com/blog/Deep-Learning/recurrent-neural-networks-rnn-deep-learning-for-sequential-data) is more information on autoregressive modeling as well as a justification for LSTM. "
      ]
    },
    {
      "cell_type": "code",
      "metadata": {
        "id": "jtz4UhmUNngP"
      },
      "source": [
        "def create_dataset(dataset, time_steps=1):\n",
        "    \"\"\"\n",
        "    Generate a dataset where the time series X[n] contains the readings for the 'time_step' previous days \n",
        "    and y contains the price for today.\n",
        "    args:\n",
        "    dataset: numpy array, the data\n",
        "    time_steps: the number of previous days to feed to RNN\n",
        "\n",
        "    returns:\n",
        "    tuple: a dataset with x[i] containing 'time_step' number of previous prices, target price for x[i]\n",
        "    \"\"\"\n",
        "    dataX, dataY = [],[]\n",
        "    for i in range(len(dataset)-time_steps-1):\n",
        "        a = dataset[i:(i+time_steps)]\n",
        "        dataX.append(a)\n",
        "        dataY.append(dataset[i + time_steps])\n",
        "    return np.array(dataX), np.array(dataY)"
      ],
      "execution_count": 8,
      "outputs": []
    },
    {
      "cell_type": "code",
      "metadata": {
        "id": "GtUFvFWuNmiQ"
      },
      "source": [
        "# Produces a dataset based on the number of days the model could look back\n",
        "time_steps = 20\n",
        "X, y = create_dataset(data_normalized, time_steps)"
      ],
      "execution_count": 9,
      "outputs": []
    },
    {
      "cell_type": "code",
      "metadata": {
        "id": "GUmwLVKQ9PVN",
        "colab": {
          "base_uri": "https://localhost:8080/"
        },
        "outputId": "4dde1557-b0d4-4c63-fbd9-5dd7565a54c3"
      },
      "source": [
        "# Check the shape of your dataset; should be (n, time_steps, 1) and (n, 1)\n",
        "#i.e. n previous data is input -  y is the following day\n",
        "print(X.shape, y.shape)"
      ],
      "execution_count": 11,
      "outputs": [
        {
          "output_type": "stream",
          "name": "stdout",
          "text": [
            "(2643, 20, 1) (2643, 1)\n"
          ]
        }
      ]
    },
    {
      "cell_type": "markdown",
      "metadata": {
        "id": "lVOui6W0Nn-v"
      },
      "source": [
        "### B) Data Partitioning\n",
        "Split data into train and test sets. Using 80\\% for training and 20\\% for testing. "
      ]
    },
    {
      "cell_type": "code",
      "metadata": {
        "id": "q-lwp69bNn-v",
        "colab": {
          "base_uri": "https://localhost:8080/"
        },
        "outputId": "42c33a50-3a6f-4656-c230-f64a6ee692ea"
      },
      "source": [
        "split = ((X.shape[0])*8)//10\n",
        "X_train = X[:split]\n",
        "X_test = X[split:]\n",
        "y_train = y[:split]\n",
        "y_test = y[split:]\n",
        "print(X_train.shape, X_test.shape, y_train.shape, y_test.shape)"
      ],
      "execution_count": 15,
      "outputs": [
        {
          "output_type": "stream",
          "name": "stdout",
          "text": [
            "(2114, 20, 1) (529, 20, 1) (2114, 1) (529, 1)\n"
          ]
        }
      ]
    },
    {
      "cell_type": "markdown",
      "metadata": {
        "id": "C3ylDfvKSRpt"
      },
      "source": [
        "For this dataset, I needed to reshape the partitions for the model to be able to process them."
      ]
    },
    {
      "cell_type": "code",
      "metadata": {
        "id": "VGY8MCxWSRpv",
        "colab": {
          "base_uri": "https://localhost:8080/"
        },
        "outputId": "b25d2924-16e7-4e96-9b57-db07949bba6b"
      },
      "source": [
        "# Reshape input to be [samples, features, timesteps].\n",
        "X_train = np.reshape(X_train, (X_train.shape[0],1,  X_train.shape[1]))\n",
        "X_test = np.reshape(X_test, (X_test.shape[0], 1, X_test.shape[1]))\n",
        "print(X_train.shape, X_test.shape, y_train.shape, y_test.shape)"
      ],
      "execution_count": 16,
      "outputs": [
        {
          "output_type": "stream",
          "name": "stdout",
          "text": [
            "(2114, 1, 20) (529, 1, 20) (2114, 1) (529, 1)\n"
          ]
        }
      ]
    },
    {
      "cell_type": "markdown",
      "metadata": {
        "id": "XT5ychZQTh_R"
      },
      "source": [
        "###  C) RNN Model 1: LSTM\n",
        "\n",
        "In this part I will create a model using an RNN layer (Specifically LSTM) and train it on the training data. I will also plot training and validation loss using mean squared error as your model's metric."
      ]
    },
    {
      "cell_type": "code",
      "metadata": {
        "id": "6UVNRGQlTh_S"
      },
      "source": [
        "# Build model\n",
        "from tensorflow.keras.layers import LSTM, Dense\n",
        "from tensorflow.keras.losses import MeanSquaredError\n",
        "from tensorflow.keras.metrics import MeanSquaredError, MeanAbsoluteError\n",
        "lstm = tf.keras.models.Sequential([\n",
        "    LSTM(units = 32, activation = 'relu' , return_sequences = True),     #recurrent activation sigmoid, output activation tanh\n",
        "    LSTM(units = 64, activation = 'relu' ,return_sequences = True),\n",
        "    LSTM(units = 128, activation = 'relu' ),\n",
        "    Dense(units=1)\n",
        "])\n",
        "# lstm.summary()\n",
        "loss = \"mean_squared_error\"\n",
        "opt = \"adam\"\n",
        "metrics = [MeanSquaredError(), MeanAbsoluteError()]\n",
        "lstm.compile(optimizer=opt, loss= loss, metrics = metrics)"
      ],
      "execution_count": null,
      "outputs": []
    },
    {
      "cell_type": "code",
      "metadata": {
        "id": "Cy6nV7WXTh_S"
      },
      "source": [
        "batchsize = 32\n",
        "epochs =  30\n",
        "# Fit model\n",
        "history = lstm.fit(X_train, y_train, validation_split = .2, epochs=epochs, batch_size=batchsize, verbose = 0)"
      ],
      "execution_count": 18,
      "outputs": []
    },
    {
      "cell_type": "code",
      "metadata": {
        "id": "_ymO0e_oTh_S",
        "colab": {
          "base_uri": "https://localhost:8080/",
          "height": 386
        },
        "outputId": "97474ac1-f6d7-44c6-af2a-80d5fe01577f"
      },
      "source": [
        "# Plot the Model loss\n",
        "plt.plot(history.history['loss'])\n",
        "plt.plot(history.history['val_loss'])\n",
        "plt.title('model loss')\n",
        "plt.ylabel('loss')\n",
        "plt.xlabel('epoch')\n",
        "plt.legend(['train', 'test'], loc='upper left')\n",
        "plt.show()\n",
        "print(history.history['loss'])\n",
        "print(history.history['val_loss'])\n",
        "print(\"Final MSE training model loss is:\", history.history['loss'][-1])\n",
        "print(\"Final MSE validation model loss is:\", history.history['val_loss'][-1])"
      ],
      "execution_count": 19,
      "outputs": [
        {
          "output_type": "display_data",
          "data": {
            "text/plain": [
              "<Figure size 432x288 with 1 Axes>"
            ],
            "image/png": "[encoded data removed]"
          },
          "metadata": {
            "needs_background": "light"
          }
        },
        {
          "output_type": "stream",
          "name": "stdout",
          "text": [
            "[0.0030514108948409557, 0.0005694805295206606, 0.00012279443035367876, 0.00011297076707705855, 9.749775927048177e-05, 8.421274833381176e-05, 7.769341755192727e-05, 6.515343557111919e-05, 5.352998778107576e-05, 4.7229368647094816e-05, 4.561291279969737e-05, 3.729785748873837e-05, 3.854155875160359e-05, 3.549851317075081e-05, 3.4562785003799945e-05, 3.26493609463796e-05, 3.417179323150776e-05, 3.1600149668520316e-05, 3.40892729582265e-05, 3.1422085157828405e-05, 2.892608245019801e-05, 3.0866875022184104e-05, 2.9167513275751844e-05, 2.977934491354972e-05, 2.8183132599224336e-05, 2.6782334316521883e-05, 2.6159646949963644e-05, 2.475340988894459e-05, 2.5765306418179534e-05, 2.475959263392724e-05]\n",
            "[0.005233852192759514, 0.0002445350692141801, 0.00014303038187790662, 0.00012845819583162665, 0.00011813497258117422, 0.00010581845708657056, 0.00012724049156531692, 8.468801388517022e-05, 7.111149170668796e-05, 0.00012086513015674427, 7.675852975808084e-05, 5.7660781749291345e-05, 6.638849299633875e-05, 6.013852544128895e-05, 5.58798601559829e-05, 6.661679071839899e-05, 5.562518344959244e-05, 5.673550913343206e-05, 5.513741780305281e-05, 5.2272178436396644e-05, 6.006096737110056e-05, 4.937082849210128e-05, 5.0787893997039646e-05, 6.953967385925353e-05, 4.793375774170272e-05, 5.070084080216475e-05, 5.028834493714385e-05, 4.627060116035864e-05, 4.557559805107303e-05, 6.853922241134569e-05]\n",
            "Final MSE training model loss is: 2.475959263392724e-05\n",
            "Final MSE validation model loss is: 6.853922241134569e-05\n"
          ]
        }
      ]
    },
    {
      "cell_type": "markdown",
      "metadata": {
        "id": "bZPc1zwFUWmv"
      },
      "source": [
        "### D) RNN Model 2: GRU\n",
        "In this part, I will create an RNN model that instead uses a similar structure, GRU, for comparison. "
      ]
    },
    {
      "cell_type": "code",
      "metadata": {
        "id": "VJqARE-aUWmx"
      },
      "source": [
        "# Build model\n",
        "from tensorflow.keras.layers import GRU, Dropout\n",
        "gru = tf.keras.models.Sequential([\n",
        "    GRU(units = 32, activation = 'relu' , return_sequences = True),  \n",
        "    GRU(units = 64, activation = 'relu' ,return_sequences = True),\n",
        "    GRU(units = 128, activation = 'relu'),\n",
        "    Dense(units=1)\n",
        "])\n",
        "loss = \"mean_squared_error\"\n",
        "opt = \"adam\"\n",
        "metrics = [MeanSquaredError(), MeanAbsoluteError()]\n",
        "gru.compile(optimizer=opt, loss= loss, metrics = metrics)"
      ],
      "execution_count": null,
      "outputs": []
    },
    {
      "cell_type": "code",
      "metadata": {
        "id": "kuloKr8QUWmy"
      },
      "source": [
        "batchsize = 32\n",
        "epochs =  60\n",
        "\n",
        "# Fit model\n",
        "history = gru.fit(X_train, y_train, validation_split = .2, epochs=epochs, batch_size=batchsize, verbose = 0)"
      ],
      "execution_count": 21,
      "outputs": []
    },
    {
      "cell_type": "code",
      "metadata": {
        "id": "WiIh66vMUWmy",
        "colab": {
          "base_uri": "https://localhost:8080/",
          "height": 386
        },
        "outputId": "c7fa70e4-f4c8-44dc-eafe-535ab1ad1dbd"
      },
      "source": [
        "# Plot the Model loss\n",
        "plt.plot(history.history['loss'])\n",
        "plt.plot(history.history['val_loss'])\n",
        "plt.title('model loss')\n",
        "plt.ylabel('loss')\n",
        "plt.xlabel('epoch')\n",
        "plt.legend(['train', 'test'], loc='upper left')\n",
        "plt.show()\n",
        "print(history.history['loss'])\n",
        "print(history.history['val_loss'])\n",
        "print(\"Final MSE training model loss is:\", history.history['loss'][-1])\n",
        "print(\"Final MSE validation model loss is:\", history.history['val_loss'][-1])"
      ],
      "execution_count": 22,
      "outputs": [
        {
          "output_type": "display_data",
          "data": {
            "text/plain": [
              "<Figure size 432x288 with 1 Axes>"
            ],
            "image/png": "[encoded data removed]"
          },
          "metadata": {
            "needs_background": "light"
          }
        },
        {
          "output_type": "stream",
          "name": "stdout",
          "text": [
            "[0.001333520282059908, 0.00011788093252107501, 0.00010595640924293548, 7.795543206157163e-05, 5.919947579968721e-05, 4.764654295286164e-05, 4.0866976632969454e-05, 4.154067573836073e-05, 3.451843076618388e-05, 3.393289080122486e-05, 3.117513551842421e-05, 3.1902258342597634e-05, 3.2383628422394395e-05, 3.066410863539204e-05, 2.7998039513477124e-05, 3.023591489181854e-05, 3.5119446692988276e-05, 3.207785266567953e-05, 2.9387842005235143e-05, 2.5864161216304637e-05, 2.6532094125286676e-05, 2.6615218303049915e-05, 2.7471291105030105e-05, 2.6809399059857242e-05, 2.4802433472359553e-05, 2.457727532600984e-05, 2.5655323042883538e-05, 2.2826221538707614e-05, 2.4886323444661684e-05, 2.276029044878669e-05, 2.5729726985446177e-05, 2.1029360141255893e-05, 2.7224681616644375e-05, 2.653030060173478e-05, 2.1401760022854432e-05, 2.173430402763188e-05, 2.2725362214259803e-05, 3.2898347853915766e-05, 2.2015508875483647e-05, 2.2062904463382438e-05, 2.1253128579701297e-05, 2.3191505533759482e-05, 2.210579077654984e-05, 2.2853204427519813e-05, 2.4777385988272727e-05, 2.4201164706028067e-05, 3.426723924349062e-05, 2.155558468075469e-05, 2.397420394117944e-05, 1.9291095668449998e-05, 1.8965611161547713e-05, 2.0306712031015195e-05, 1.7104328435380012e-05, 2.163825229217764e-05, 2.675311225175392e-05, 2.0535999283310957e-05, 1.929487734741997e-05, 1.809758941817563e-05, 1.742695712891873e-05, 2.0146231690887362e-05]\n",
            "[0.00020439713262021542, 0.00013208236487116665, 0.0001234442606801167, 9.362729178974405e-05, 9.474438411416486e-05, 7.586136052850634e-05, 0.00010181485413340852, 5.4386960982810706e-05, 5.429224984254688e-05, 5.3650768677471206e-05, 6.202368240337819e-05, 5.126036558067426e-05, 0.00011184716277057305, 5.96699865127448e-05, 0.00010919742635451257, 8.94222830538638e-05, 4.8037451051641256e-05, 5.114329542266205e-05, 4.6842778829159215e-05, 4.477362017496489e-05, 4.468056431505829e-05, 5.075701847090386e-05, 6.085088534746319e-05, 5.785911707789637e-05, 4.4432043068809435e-05, 4.523840470938012e-05, 4.287675255909562e-05, 5.207737922319211e-05, 4.163742414675653e-05, 4.4288277422310784e-05, 4.141265162616037e-05, 5.954016523901373e-05, 4.5324133679969236e-05, 5.6818775192368776e-05, 4.102790626347996e-05, 4.150012682657689e-05, 4.134251503273845e-05, 0.00011398351489333436, 5.106384924147278e-05, 4.0336693928111345e-05, 7.715268293395638e-05, 4.051310315844603e-05, 6.735524220857769e-05, 4.2866839066846296e-05, 3.8755089917685837e-05, 4.2222265619784594e-05, 4.398381133796647e-05, 3.7764129956485704e-05, 3.788879985222593e-05, 4.2117037082789466e-05, 5.3222422138787806e-05, 3.730784737854265e-05, 3.677840868476778e-05, 4.961473314324394e-05, 4.16868097090628e-05, 4.1924235119950026e-05, 3.716721766977571e-05, 4.359244849183597e-05, 3.550694236764684e-05, 4.628036549547687e-05]\n",
            "Final MSE training model loss is: 2.0146231690887362e-05\n",
            "Final MSE validation model loss is: 4.628036549547687e-05\n"
          ]
        }
      ]
    },
    {
      "cell_type": "markdown",
      "metadata": {
        "id": "GkDcoN3CUWmy"
      },
      "source": [
        "### E) Looking at the Predictions\n",
        "\n",
        "Now, I will display my best model's performance on the test set, plotting the model's prediction for Bitcoin Price along with the actual test set prices. \n",
        "\n",
        "**Note:** The model is trained on normalized data and thus predicts a normalized score. In order to transform the model's predictions to the original price range will have to use sklearn's [inverse_transform](https://scikit-learn.org/stable/modules/generated/sklearn.preprocessing.StandardScaler.html)"
      ]
    },
    {
      "cell_type": "code",
      "metadata": {
        "id": "m7dZ2Of1R4kI",
        "colab": {
          "base_uri": "https://localhost:8080/",
          "height": 295
        },
        "outputId": "e7573371-54a0-4f23-e6ff-cbe323aad168"
      },
      "source": [
        "# y_pred_gru =  scaler.inverse_transform(gru.predict(X_test)) \n",
        "# y_pred_lstm = scaler.inverse_transform(lstm.predict(X_test))\n",
        "y_pred_avg =  (scaler.inverse_transform(gru.predict(X_test)) +scaler.inverse_transform(lstm.predict(X_test)))/2\n",
        "y_test2 =  scaler.inverse_transform(y_test)\n",
        "# plt.plot(y_pred_gru)\n",
        "# plt.plot(y_pred_lstm)\n",
        "plt.plot(y_pred_avg)\n",
        "plt.plot(y_test2)\n",
        "plt.title('model loss on actual BTC')\n",
        "plt.ylabel('price')\n",
        "plt.xlabel('date')\n",
        "plt.legend([ 'y_pred_avg', 'y_test'], loc='upper left')\n",
        "plt.show()"
      ],
      "execution_count": 25,
      "outputs": [
        {
          "output_type": "display_data",
          "data": {
            "text/plain": [
              "<Figure size 432x288 with 1 Axes>"
            ],
            "image/png": "[encoded data removed]"
          },
          "metadata": {
            "needs_background": "light"
          }
        }
      ]
    },
    {
      "cell_type": "markdown",
      "metadata": {
        "id": "1to7eXUQNbDd"
      },
      "source": [
        "After testing lookback days , layer amount, dropout, and different architectures, I (by coincidence) made a GRU that undershoots the price and an LSTM that overshoots it, and taking the average of their prediction proved to be closest to the actual bitcoin prices. 20 look back days was empirically the best for my architectures. It potentially was never the right complexity when I tested a higher amount of look back days (up to 100). Layer amount of three seemed to be the best for both the GRU and LSTM that I tested. The GRU usually provided lower losses but because these models were working with fractional squared loss, the LSTM may have performed better with other metrics like absolute error. Thus the best model I found was actually a combination of both GRU and LSTM. \n",
        "\n"
      ]
    }
  ]
}